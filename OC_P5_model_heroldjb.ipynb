{
 "cells": [
  {
   "cell_type": "markdown",
   "metadata": {},
   "source": [
    "# OC - P5 - Customer segmentation\n",
    "\n",
    "## Context\n",
    "Kaggle dataset 'Brazilian E-commerce Public Dataset (Olist)' : https://www.kaggle.com/datasets/olistbr/brazilian-ecommerce\n",
    "\n",
    "## Ressources\n",
    "https://www.nextlytics.com/blog/machine-learning-in-customer-segmentation-with-rfm-analysis\n",
    "\n",
    "## Database\n",
    "The database contains 9 flat files, csv format. For some they are similar to relationnal database table except for one of them that doesn't have a unicity of key.\n",
    "\n",
    "## The need\n",
    "It is asked to create  a study and a model that will help people undertanding the different types of the internet website's users.<br>\n",
    "It is a marketing oriented analysis.\n",
    "\n",
    "The segmentation have to be able to figure out at least the good customers from the other ones on a finance points of view, and also on a satisfaction point of view.\n",
    "\n",
    "> It is asked to propose a model and a frequency of update of this very model.\n",
    "\n",
    "The code has to respect the PEP8 convention.\n"
   ]
  },
  {
   "cell_type": "code",
   "execution_count": 9,
   "metadata": {},
   "outputs": [
    {
     "ename": "ModuleNotFoundError",
     "evalue": "No module named 'xgb'",
     "output_type": "error",
     "traceback": [
      "\u001b[0;31m---------------------------------------------------------------------------\u001b[0m",
      "\u001b[0;31mModuleNotFoundError\u001b[0m                       Traceback (most recent call last)",
      "\u001b[0;32m/var/folders/53/kjtpb3yd50l_0wd__m7cm_7m0000gn/T/ipykernel_4208/376354913.py\u001b[0m in \u001b[0;36m<module>\u001b[0;34m\u001b[0m\n\u001b[1;32m      8\u001b[0m \u001b[0;32mimport\u001b[0m \u001b[0mrandom\u001b[0m\u001b[0;34m\u001b[0m\u001b[0;34m\u001b[0m\u001b[0m\n\u001b[1;32m      9\u001b[0m \u001b[0;32mimport\u001b[0m \u001b[0msklearn\u001b[0m\u001b[0;34m\u001b[0m\u001b[0;34m\u001b[0m\u001b[0m\n\u001b[0;32m---> 10\u001b[0;31m \u001b[0;32mimport\u001b[0m \u001b[0mxgb\u001b[0m\u001b[0;34m\u001b[0m\u001b[0;34m\u001b[0m\u001b[0m\n\u001b[0m\u001b[1;32m     11\u001b[0m \u001b[0;34m\u001b[0m\u001b[0m\n\u001b[1;32m     12\u001b[0m \u001b[0;32mfrom\u001b[0m \u001b[0msklearn\u001b[0m\u001b[0;34m.\u001b[0m\u001b[0mmodel_selection\u001b[0m \u001b[0;32mimport\u001b[0m \u001b[0mtrain_test_split\u001b[0m\u001b[0;34m\u001b[0m\u001b[0;34m\u001b[0m\u001b[0m\n",
      "\u001b[0;31mModuleNotFoundError\u001b[0m: No module named 'xgb'"
     ]
    }
   ],
   "source": [
    "import pandas as pd\n",
    "import numpy as np\n",
    "import datetime\n",
    "pd.set_option('display.max_columns', 100)\n",
    "\n",
    "import matplotlib.pyplot as plt\n",
    "import seaborn as sns\n",
    "import random\n",
    "import sklearn\n",
    "\n",
    "from sklearn.model_selection import train_test_split\n",
    "from sklearn.compose import ColumnTransformer\n",
    "from sklearn.metrics import adjusted_rand_score\n",
    "from sklearn.pipeline import Pipeline\n",
    "from sklearn import preprocessing\n",
    "\n",
    "from sklearn import decomposition\n",
    "from sklearn import preprocessing\n",
    "\n",
    "from sklearn.cluster import KMeans\n",
    "from sklearn import cluster"
   ]
  },
  {
   "cell_type": "markdown",
   "metadata": {},
   "source": [
    "### Version"
   ]
  },
  {
   "cell_type": "code",
   "execution_count": 11,
   "metadata": {},
   "outputs": [
    {
     "name": "stdout",
     "output_type": "stream",
     "text": [
      "Versions used:\n",
      "Python                : 3.9.7 (default, Sep 16 2021, 08:50:36) \n",
      "[Clang 10.0.0 ]\n",
      "NumPy                 : 1.20.3\n",
      "Pandas                : 1.3.4\n",
      "Seaborn               : 0.11.2\n",
      "Sklearn               : 0.24.2\n"
     ]
    },
    {
     "ename": "AttributeError",
     "evalue": "module 'random' has no attribute '__version__'",
     "output_type": "error",
     "traceback": [
      "\u001b[0;31m---------------------------------------------------------------------------\u001b[0m",
      "\u001b[0;31mAttributeError\u001b[0m                            Traceback (most recent call last)",
      "\u001b[0;32m/var/folders/53/kjtpb3yd50l_0wd__m7cm_7m0000gn/T/ipykernel_4208/3036656251.py\u001b[0m in \u001b[0;36m<module>\u001b[0;34m\u001b[0m\n\u001b[1;32m      6\u001b[0m \u001b[0mprint\u001b[0m\u001b[0;34m(\u001b[0m\u001b[0;34m'Seaborn               : '\u001b[0m \u001b[0;34m+\u001b[0m \u001b[0msns\u001b[0m\u001b[0;34m.\u001b[0m\u001b[0m__version__\u001b[0m\u001b[0;34m)\u001b[0m\u001b[0;34m\u001b[0m\u001b[0;34m\u001b[0m\u001b[0m\n\u001b[1;32m      7\u001b[0m \u001b[0mprint\u001b[0m\u001b[0;34m(\u001b[0m\u001b[0;34m'Sklearn               : '\u001b[0m \u001b[0;34m+\u001b[0m \u001b[0msklearn\u001b[0m\u001b[0;34m.\u001b[0m\u001b[0m__version__\u001b[0m\u001b[0;34m)\u001b[0m\u001b[0;34m\u001b[0m\u001b[0;34m\u001b[0m\u001b[0m\n\u001b[0;32m----> 8\u001b[0;31m \u001b[0mprint\u001b[0m\u001b[0;34m(\u001b[0m\u001b[0;34m'Random               : '\u001b[0m \u001b[0;34m+\u001b[0m \u001b[0mrandom\u001b[0m\u001b[0;34m.\u001b[0m\u001b[0m__version__\u001b[0m\u001b[0;34m)\u001b[0m\u001b[0;34m\u001b[0m\u001b[0;34m\u001b[0m\u001b[0m\n\u001b[0m\u001b[1;32m      9\u001b[0m \u001b[0mnow\u001b[0m \u001b[0;34m=\u001b[0m \u001b[0mdatetime\u001b[0m\u001b[0;34m.\u001b[0m\u001b[0mdatetime\u001b[0m\u001b[0;34m.\u001b[0m\u001b[0mnow\u001b[0m\u001b[0;34m(\u001b[0m\u001b[0;34m)\u001b[0m\u001b[0;34m.\u001b[0m\u001b[0misoformat\u001b[0m\u001b[0;34m(\u001b[0m\u001b[0;34m)\u001b[0m\u001b[0;34m\u001b[0m\u001b[0;34m\u001b[0m\u001b[0m\n\u001b[1;32m     10\u001b[0m \u001b[0mprint\u001b[0m\u001b[0;34m(\u001b[0m\u001b[0;34m'Launched on             : '\u001b[0m \u001b[0;34m+\u001b[0m \u001b[0mnow\u001b[0m\u001b[0;34m)\u001b[0m\u001b[0;34m\u001b[0m\u001b[0;34m\u001b[0m\u001b[0m\n",
      "\u001b[0;31mAttributeError\u001b[0m: module 'random' has no attribute '__version__'"
     ]
    }
   ],
   "source": [
    "# Versions\n",
    "print('Versions used:')\n",
    "print('Python                : ' + sys.version)\n",
    "print('NumPy                 : ' + np.version.full_version)\n",
    "print('Pandas                : ' + pd.__version__)\n",
    "print('Seaborn               : ' + sns.__version__)\n",
    "print('Sklearn               : ' + sklearn.__version__)\n",
    "now = datetime.datetime.now().isoformat()\n",
    "print('Launched on             : ' + now)"
   ]
  },
  {
   "cell_type": "markdown",
   "metadata": {},
   "source": [
    "### Function declared"
   ]
  },
  {
   "cell_type": "code",
   "execution_count": 2,
   "metadata": {},
   "outputs": [],
   "source": [
    "def ploting_distribution(df, columns_list, figure_size):\n",
    "    \"\"\"Function that plot the distirbution. Takes three arguments\n",
    "        First : dataframe\n",
    "        Second : un list of columns to plot\n",
    "        Third the size of the plot format (x, y)\n",
    "    \"\"\"\n",
    "\n",
    "    plt.figure(figsize = figure_size)\n",
    "    i= 1\n",
    "    for e in columns_list:\n",
    "        plt.subplot(len(columns_list),2,i)\n",
    "        sns.boxplot(x=df[e], width=0.5, color='#2E56D3')\n",
    "        plt.title(f'Variable {e} boxlot')\n",
    "        plt.ylabel('Value')\n",
    "        plt.xlabel('')\n",
    "        plt.title(f'Boxplot of variable : {e}')\n",
    "\n",
    "        i += 1\n",
    "\n",
    "        plt.subplot(len(columns_list),2,i)\n",
    "        sns.histplot(x=df[e], kde=True, color='#2E56D3')\n",
    "        plt.title(f'Variable {e} histplot')\n",
    "        plt.xlabel('Value')\n",
    "        plt.title(f'Histplot of variable : {e}')\n",
    "\n",
    "        i += 1\n",
    "\n",
    "    plt.suptitle(f'Distribution of the quantitative variables', fontsize=25, y=1.01)\n",
    "    # plt.subplots_adjust(left=None, bottom=None, right=None, top=None, wspace=None, hspace=None)\n",
    "    plt.tight_layout()\n",
    "\n",
    "\n",
    "\n",
    "###### Color font ######\n",
    "s='''\n",
    "    aliceblue, antiquewhite, aqua, aquamarine, azure,\n",
    "    beige, bisque, black, blanchedalmond, blue,\n",
    "    blueviolet, brown, burlywood, cadetblue,\n",
    "    chartreuse, chocolate, coral, cornflowerblue,\n",
    "    cornsilk, crimson, cyan, darkblue, darkcyan,\n",
    "    darkgoldenrod, darkgray, darkgrey, darkgreen,\n",
    "    darkkhaki, darkmagenta, darkolivegreen, darkorange,\n",
    "    darkorchid, darkred, darksalmon, darkseagreen,\n",
    "    darkslateblue, darkslategray, darkslategrey,\n",
    "    darkturquoise, darkviolet, deeppink, deepskyblue,\n",
    "    dimgray, dimgrey, dodgerblue, firebrick,\n",
    "    floralwhite, forestgreen, fuchsia, gainsboro,\n",
    "    ghostwhite, gold, goldenrod, gray, grey, green,\n",
    "    greenyellow, honeydew, hotpink, indianred, indigo,\n",
    "    ivory, khaki, lavender, lavenderblush, lawngreen,\n",
    "    lemonchiffon, lightblue, lightcoral, lightcyan,\n",
    "    lightgoldenrodyellow, lightgray, lightgrey,\n",
    "    lightgreen, lightpink, lightsalmon, lightseagreen,\n",
    "    lightskyblue, lightslategray, lightslategrey,\n",
    "    lightsteelblue, lightyellow, lime, limegreen,\n",
    "    linen, magenta, maroon, mediumaquamarine,\n",
    "    mediumblue, mediumorchid, mediumpurple,\n",
    "    mediumseagreen, mediumslateblue, mediumspringgreen,\n",
    "    mediumturquoise, mediumvioletred, midnightblue,\n",
    "    mintcream, mistyrose, moccasin, navajowhite, navy,\n",
    "    oldlace, olive, olivedrab, orange, orangered,\n",
    "    orchid, palegoldenrod, palegreen, paleturquoise,\n",
    "    palevioletred, papayawhip, peachpuff, peru, pink,\n",
    "    plum, powderblue, purple, red, rosybrown,\n",
    "    royalblue, saddlebrown, salmon, sandybrown,\n",
    "    seagreen, seashell, sienna, silver, skyblue,\n",
    "    slateblue, slategray, slategrey, snow, springgreen,\n",
    "    steelblue, tan, teal, thistle, tomato, turquoise,\n",
    "    violet, wheat, white, whitesmoke, yellow,\n",
    "    yellowgreen\n",
    "    '''\n",
    "color_font=s.split(',')\n",
    "color_font=[l.replace('\\n','') for l in color_font]\n",
    "color_font=[l.replace(' ','') for l in color_font]\n",
    "random.shuffle(color_font)\n",
    "###### Color font ######"
   ]
  },
  {
   "cell_type": "markdown",
   "metadata": {},
   "source": [
    "### Conclusion to the exploration and introduction to this particular notebook"
   ]
  },
  {
   "cell_type": "markdown",
   "metadata": {},
   "source": [
    "We have cleaned and tested segmentation model in the previous notebook.\n",
    "\n",
    "KMeans gives good result on a RFM point of view that's why we decide to choose this model as a production model.\n",
    "\n",
    "> Here are the projection of R-F-M variables segmented with Kmeans and GMM\n",
    "<br><br><br>\n",
    "\n",
    "![alt text](assets/kmeans_clusters_3d.png \"Title\")\n",
    "\n",
    "![alt text](assets/gmm_clusters_3d.png \"Title\")\n",
    "\n",
    "> We saw that GMM is giving a good result creating 3 main clusters of customers\n"
   ]
  },
  {
   "cell_type": "markdown",
   "metadata": {},
   "source": [
    "### Let's see how the models performance are reacting to new datas\n",
    "\n",
    "Fist we'll need to create a set of main datas for our first model at a time t, and then create a second set that will feed our main model.\n",
    "\n",
    "I'll use train test split for this purpose and the scoring method used will be the Rand index adjusted.\n",
    "\n",
    "THe rand index adjusted is computes a similarity measure between two different clusterings by considering all pairs of samples, and counting pairs that are assigned in the same or different clusters predicted, against the true clusterings, adjusting for random chance."
   ]
  },
  {
   "cell_type": "code",
   "execution_count": 3,
   "metadata": {},
   "outputs": [],
   "source": [
    "### import database\n",
    "df = pd.read_csv('olist_dataset_cleaned.csv')\n",
    "df_rfm_modeled = pd.read_csv('rfm_modeled.csv')"
   ]
  },
  {
   "cell_type": "markdown",
   "metadata": {},
   "source": [
    "With regard the exercice, we'll need to split the dataset cleaned into two parts one until end 2017 and the other form there."
   ]
  },
  {
   "cell_type": "code",
   "execution_count": 4,
   "metadata": {},
   "outputs": [
    {
     "data": {
      "text/plain": [
       "'2017-01-31 00:11:36'"
      ]
     },
     "execution_count": 4,
     "metadata": {},
     "output_type": "execute_result"
    }
   ],
   "source": [
    "df['order_purchase_timestamp'].min()"
   ]
  },
  {
   "cell_type": "code",
   "execution_count": 5,
   "metadata": {},
   "outputs": [],
   "source": [
    "def pipe_transfo(df, dateto, datemain):\n",
    "\n",
    "    df_from_to_main = df[df['order_purchase_timestamp']<=datemain]\n",
    "    df_from_to_test = df[df['order_purchase_timestamp']<=dateto]\n",
    "    \n",
    "    ###MAIN DATASET\n",
    "    #frequency\n",
    "    df_gb_customer_order_main = df_from_to_main.groupby(['customer_unique_id', 'order_id']).sum().reset_index()\n",
    "    df_gb_customer_order_main = df_gb_customer_order_main.groupby('customer_unique_id').count().sort_values(by='price', ascending=False).reset_index()\n",
    "\n",
    "    df_rfm = df_gb_customer_order_main[['customer_unique_id', 'order_id']] #order_id stands for the count of transactions per cusomer_unique_id here\n",
    "\n",
    "    #monetary\n",
    "    df_monetary = df_from_to_main.groupby('customer_unique_id').mean().reset_index()[['customer_unique_id', 'price']]\n",
    "    df_rfm = df_rfm.merge(df_monetary, on='customer_unique_id', how='left')\n",
    "\n",
    "    #recency\n",
    "    df_recency = df_from_to_main.sort_values('order_purchase_timestamp', ascending=False)\n",
    "    df_recency = df_recency.drop_duplicates(subset='customer_unique_id', keep='first')\n",
    "    df_recency[['customer_unique_id', 'order_purchase_timestamp']]\n",
    "    df_recency['reference_date'] = dateto\n",
    "    df_recency['reference_date'] = df_recency['reference_date'].astype('datetime64[ns]')\n",
    "    df_recency['Recency'] = df_recency['reference_date'] - df['order_purchase_timestamp'].astype('datetime64[ns]')\n",
    "    df_recency['Recency'] = df_recency['Recency'].dt.days\n",
    "    df_recency = df_recency[['customer_unique_id', 'Recency']]\n",
    "    df_rfm = df_rfm.merge(df_recency, how='left', on='customer_unique_id')\n",
    "\n",
    "    #cosmetic renaming\n",
    "    df_rfm.rename(columns={'order_id':'Frequency', 'price':'Monetary'}, inplace=True)\n",
    "\n",
    "    #adding customer review\n",
    "    df_rfm_augmented_main = df_rfm.merge(df.groupby('customer_unique_id').mean().reset_index()[['customer_unique_id','review_score']], on='customer_unique_id', how='left')\n",
    "    df_rfm_augmented_main = df_rfm_augmented_main.dropna()\n",
    "\n",
    "\n",
    "\n",
    "    ###TEST DATASET\n",
    "    #frequency\n",
    "    df_gb_customer_order_test = df_from_to_test.groupby(['customer_unique_id', 'order_id']).sum().reset_index()\n",
    "    df_gb_customer_order_test = df_gb_customer_order_test.groupby('customer_unique_id').count().sort_values(by='price', ascending=False).reset_index()\n",
    "\n",
    "    df_rfm = df_gb_customer_order_test[['customer_unique_id', 'order_id']] #order_id stands for the count of transactions per cusomer_unique_id here\n",
    "\n",
    "    #monetary\n",
    "    df_monetary = df_from_to_test.groupby('customer_unique_id').mean().reset_index()[['customer_unique_id', 'price']]\n",
    "    df_rfm = df_rfm.merge(df_monetary, on='customer_unique_id', how='left')\n",
    "\n",
    "    #recency\n",
    "    df_recency = df_from_to_test.sort_values('order_purchase_timestamp', ascending=False)\n",
    "    df_recency = df_recency.drop_duplicates(subset='customer_unique_id', keep='first')\n",
    "    df_recency[['customer_unique_id', 'order_purchase_timestamp']]\n",
    "    df_recency['reference_date'] = dateto\n",
    "    df_recency['reference_date'] = df_recency['reference_date'].astype('datetime64[ns]')\n",
    "    df_recency['Recency'] = df_recency['reference_date'] - df['order_purchase_timestamp'].astype('datetime64[ns]')\n",
    "    df_recency['Recency'] = df_recency['Recency'].dt.days\n",
    "    df_recency = df_recency[['customer_unique_id', 'Recency']]\n",
    "    df_rfm = df_rfm.merge(df_recency, how='left', on='customer_unique_id')\n",
    "\n",
    "    #cosmetic renaming\n",
    "    df_rfm.rename(columns={'order_id':'Frequency', 'price':'Monetary'}, inplace=True)\n",
    "\n",
    "    #adding customer review\n",
    "    df_rfm_augmented_test = df_rfm.merge(df.groupby('customer_unique_id').mean().reset_index()[['customer_unique_id','review_score']], on='customer_unique_id', how='left')\n",
    "    df_rfm_augmented_test = df_rfm_augmented_test.dropna()\n",
    "\n",
    "\n",
    "\n",
    "    return df_rfm_augmented_main, df_rfm_augmented_test"
   ]
  },
  {
   "cell_type": "markdown",
   "metadata": {},
   "source": [
    "### Model pipeline creation for Kmeans"
   ]
  },
  {
   "cell_type": "code",
   "execution_count": 6,
   "metadata": {},
   "outputs": [],
   "source": [
    "def model_kmeans_pipeline(df_main, df_test):\n",
    "    columns_to_transform = df_main.drop(columns=['customer_unique_id']).columns\n",
    "\n",
    "    ###MAIN\n",
    "    preprocessor = ColumnTransformer(transformers=[(\"Scaler\", preprocessing.StandardScaler(), columns_to_transform)])\n",
    "    #kmeans_model_pipe = Pipeline(steps=[(\"preprocessor\", preprocessor),(\"pca\", decomposition.PCA(n_components=4)), (\"clustering\", KMeans(n_clusters=5, random_state=5))])\n",
    "    kmeans_model_pipe = Pipeline(steps=[(\"preprocessor\", preprocessor),(\"clustering\", KMeans(n_clusters=5, random_state=5))])\n",
    "    kmeans_model_main = kmeans_model_pipe.fit(df_main.drop(columns=['customer_unique_id']))\n",
    "\n",
    "    ###TEST\n",
    "    preprocessor = ColumnTransformer(transformers=[(\"Scaler\", preprocessing.StandardScaler(), columns_to_transform)])\n",
    "    #kmeans_model_pipe = Pipeline(steps=[(\"preprocessor\", preprocessor),(\"pca\", decomposition.PCA(n_components=4)), (\"clustering\", KMeans(n_clusters=5, random_state=5))])\n",
    "    kmeans_model_pipe = Pipeline(steps=[(\"preprocessor\", preprocessor),(\"clustering\", KMeans(n_clusters=5, random_state=5))])\n",
    "    kmeans_model_test = kmeans_model_pipe.fit(df_test.drop(columns=['customer_unique_id']))\n",
    "\n",
    "    return kmeans_model_main, kmeans_model_test"
   ]
  },
  {
   "cell_type": "markdown",
   "metadata": {},
   "source": [
    "> all time to date"
   ]
  },
  {
   "cell_type": "code",
   "execution_count": 7,
   "metadata": {},
   "outputs": [],
   "source": [
    "df_rfm_main, df_rfm_test= pipe_transfo(df, '2018-08-31', '2018-08-31')"
   ]
  },
  {
   "cell_type": "code",
   "execution_count": 8,
   "metadata": {},
   "outputs": [
    {
     "name": "stdout",
     "output_type": "stream",
     "text": [
      "(90803, 5) (90803, 5)\n"
     ]
    }
   ],
   "source": [
    "print(df_rfm_main.shape, df_rfm_test.shape)"
   ]
  },
  {
   "cell_type": "code",
   "execution_count": 9,
   "metadata": {},
   "outputs": [],
   "source": [
    "#clustering\n",
    "kmeans_model_main, kmeans_model_test = model_kmeans_pipeline(df_rfm_main, df_rfm_test)\n",
    "df_rfm_main['KMeans_labels_main_'] = kmeans_model_main['clustering'].labels_\n",
    "df_rfm_test['KMeans_labels_test_'] = kmeans_model_test['clustering'].labels_"
   ]
  },
  {
   "cell_type": "markdown",
   "metadata": {},
   "source": [
    "### Test via rand index\n",
    "\n",
    "We are about to test the last part of the year VS the global model for customers in common in both datasets."
   ]
  },
  {
   "cell_type": "code",
   "execution_count": 10,
   "metadata": {},
   "outputs": [
    {
     "name": "stdout",
     "output_type": "stream",
     "text": [
      "(90803, 6) (90803, 6)\n"
     ]
    }
   ],
   "source": [
    "df_rfm_modeled_to_compare = df_rfm_main[df_rfm_main['customer_unique_id'].isin(df_rfm_test['customer_unique_id'])]\n",
    "df_rfm_test_to_compare = df_rfm_test[df_rfm_test['customer_unique_id'].isin(df_rfm_main['customer_unique_id'])]\n",
    "print(df_rfm_modeled_to_compare.shape, df_rfm_test.shape)"
   ]
  },
  {
   "cell_type": "code",
   "execution_count": 11,
   "metadata": {},
   "outputs": [
    {
     "data": {
      "text/plain": [
       "1.0"
      ]
     },
     "execution_count": 11,
     "metadata": {},
     "output_type": "execute_result"
    }
   ],
   "source": [
    "adjusted_rand_score(df_rfm_modeled_to_compare.sort_values(by='customer_unique_id')['KMeans_labels_main_'], df_rfm_test.sort_values(by='customer_unique_id')['KMeans_labels_test_'])"
   ]
  },
  {
   "cell_type": "markdown",
   "metadata": {},
   "source": [
    "-> OK the calculation is functional on the whole dataset"
   ]
  },
  {
   "cell_type": "markdown",
   "metadata": {},
   "source": [
    "> bi monthly maintenant contract every 15 days"
   ]
  },
  {
   "cell_type": "code",
   "execution_count": 12,
   "metadata": {},
   "outputs": [],
   "source": [
    "testing_date_list = ['2018-01-01', '2018-01-15', '2018-01-31', '2018-02-15', '2018-02-28', '2018-03-15', '2018-03-31', '2018-04-15', '2018-04-30', '2018-05-15', '2018-05-31', '2018-06-15', '2018-06-30', '2018-07-15', '2018-07-31']\n",
    "rand_list = []\n",
    "date_list = []\n",
    "\n",
    "for e in testing_date_list:\n",
    "    df_rfm_main, df_rfm_test = pipe_transfo(df, e, '2018-01-01')\n",
    "    kmeans_model_main, kmeans_model_test = model_kmeans_pipeline(df_rfm_main, df_rfm_test)\n",
    "    df_rfm_main['KMeans_labels_main_bim'] = kmeans_model_main['clustering'].labels_\n",
    "    df_rfm_test['KMeans_labels_test_bim'] = kmeans_model_test['clustering'].labels_\n",
    "    df_rfm_modeled_to_compare = df_rfm_main[df_rfm_main['customer_unique_id'].isin(df_rfm_test['customer_unique_id'])]\n",
    "    df_rfm_test_to_compare = df_rfm_test[df_rfm_test['customer_unique_id'].isin(df_rfm_main['customer_unique_id'])]\n",
    "    ari = adjusted_rand_score(df_rfm_modeled_to_compare.sort_values(by='customer_unique_id')['KMeans_labels_main_bim'], df_rfm_test_to_compare.sort_values(by='customer_unique_id')['KMeans_labels_test_bim'])\n",
    "    rand_list.append(ari)\n",
    "    date_list.append(f\"{datetime.datetime.strptime(e, '%Y-%m-%d').day}-{datetime.datetime.strptime(e, '%Y-%m-%d').month}\")\n",
    "\n",
    "rand_df = pd.DataFrame({'Date': date_list, 'Rand_score': rand_list})"
   ]
  },
  {
   "cell_type": "code",
   "execution_count": 13,
   "metadata": {},
   "outputs": [
    {
     "data": {
      "image/png": "[encoded data removed]",
      "text/plain": [
       "<Figure size 1440x504 with 1 Axes>"
      ]
     },
     "metadata": {
      "needs_background": "light"
     },
     "output_type": "display_data"
    }
   ],
   "source": [
    "plt.figure(figsize=(20, 7))\n",
    "plt.plot(rand_df.Date,rand_df['Rand_score'])\n",
    "plt.title('Rand index evolution over on a 15 days basis')\n",
    "plt.xlabel('Date')\n",
    "plt.ylabel('Rand_index')\n",
    "plt.plot(['1-1', '31-7'], [0.8, 0.8])\n",
    "plt.show()"
   ]
  },
  {
   "cell_type": "markdown",
   "metadata": {},
   "source": [
    "We can see that over a month the rand index is seemingly beeing too much deprecated. It s around 0,1 per 15 days of deprecation loss.\n",
    "We should consider a 15 days maintenance contract."
   ]
  }
 ],
 "metadata": {
  "interpreter": {
   "hash": "25e97ffa465575ae9d7595ac33541c23852d5aa3b29e62f9ba28d6f3cf7bcc87"
  },
  "kernelspec": {
   "display_name": "Python 3.9.7 ('Working')",
   "language": "python",
   "name": "python3"
  },
  "language_info": {
   "codemirror_mode": {
    "name": "ipython",
    "version": 3
   },
   "file_extension": ".py",
   "mimetype": "text/x-python",
   "name": "python",
   "nbconvert_exporter": "python",
   "pygments_lexer": "ipython3",
   "version": "3.9.7"
  },
  "orig_nbformat": 4
 },
 "nbformat": 4,
 "nbformat_minor": 2
}
